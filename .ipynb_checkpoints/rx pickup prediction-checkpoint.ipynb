{
 "cells": [
  {
   "cell_type": "markdown",
   "id": "f6459119",
   "metadata": {},
   "source": [
    "# Prescription Pickup Prediction"
   ]
  },
  {
   "cell_type": "markdown",
   "id": "f04b42e3",
   "metadata": {},
   "source": [
    "## About project"
   ]
  },
  {
   "cell_type": "markdown",
   "id": "a0c09e10",
   "metadata": {},
   "source": [
    "When patients don't pick up their prescriptions, they can get very sick. \n",
    "If the conditions are serious, they can end up in the hospital. \n",
    "If they have taken their medications, then they could've avoided hospitalization.\n",
    "As we all know hospital bills are exorbitant. \n",
    "One instance where medication non-adherence triggers repeated hospital admissions is the brand drug 'Entresto' for heart failure . \n",
    "In the last few years, the brand drug has demonstrated benefits to reduce mortality and also reduce hospital admissions [(source)](https://www.acc.org/Latest-in-Cardiology/Clinical-Trials/2014/08/30/12/22/PARADIGM-HF).\n",
    "However, the expensive cost may lead to non-adherence, such as patients not picking up their medications.\n",
    "Data shows that poor heart failure management is a common reason why patients end up returning to hospitals[(source)](https://www.ncbi.nlm.nih.gov/pmc/articles/PMC10612439/#:~:text=the%20initial%20admission.-,Hospitalized%20patients%20with%20HF%20have%20the%20highest%2030%2Dday%20readmission,et%20al.%2C%202018) ."
   ]
  },
  {
   "cell_type": "markdown",
   "id": "10b66851",
   "metadata": {},
   "source": [
    "## About the Data set"
   ]
  },
  {
   "cell_type": "markdown",
   "id": "8ecf3af2",
   "metadata": {},
   "source": [
    "This synthetic dataset gives information about patients' characteristics like annual salary and whether they pick up their prescription of Entresto or not. There are only 7 columns. We will use the dataset to make a model to predict if  a person will pick up Enstresto or not with logistic regression.\n",
    "\n",
    "\n",
    "* Attribute Information\n",
    "  +\trx_id \n",
    "      +\t__Meaning__: The unique ID for the prescription\n",
    "      +\t__Variable Type__: string\n",
    "      +\t__Possible values__:  any number from 1 to infinity\n",
    "  +\tpatient_id \n",
    "      +\t__Meaning__: The unique ID of the patient \n",
    "      +\t__Variable Type__: string\n",
    "      +\t__Possible values__:  any number from 1 to infinity\n",
    "  +\tbrand_name \n",
    "      +\t__Meaning__: the name of the drug\n",
    "      +\t__Variable Type__: string\n",
    "      +\t__Possible values__:  'entresto'\n",
    "  +\tgender \n",
    "      +\t__Meaning__: biological sex of the patient\n",
    "      +\t__Variable Type__: character\n",
    "      +\t__Possible values__:  'm' , 'f'\n",
    "  +\tannual_salary \n",
    "      +\t__Meaning__: how much money the patient makes in a year\n",
    "      +\t__Variable Type__: integer\n",
    "      +\t__Possible values__:  10000,30000,etc\n",
    "\n",
    "  +\tis_healthcare_major\n",
    "      +\t__Meaning__: Was this person's college education related to healthcare?\n",
    "      +\t__Variable Type__: integer\n",
    "      +\t__Possible values__:  1 if true , 0 if false\n",
    "      \n",
    "  +\tis_fill \n",
    "      +\t__Meaning__: was the prescription picked up from the pharmacy?\n",
    "      +\t__Variable Type__: integer\n",
    "      +\t__Possible values__:  1 if true , 0 if false"
   ]
  },
  {
   "cell_type": "markdown",
   "id": "ac9d88e1",
   "metadata": {},
   "source": [
    "## Table of content"
   ]
  },
  {
   "cell_type": "markdown",
   "id": "382d1954",
   "metadata": {},
   "source": [
    "1. Import libraries\n",
    "2. Data load and EDA\n",
    "3. Preparing ML models\n",
    "4. Model in action and interpretation\n",
    "5. Models evaluation\n",
    "6. Conclusion"
   ]
  },
  {
   "cell_type": "markdown",
   "id": "132995e1",
   "metadata": {},
   "source": [
    "## 1.Import libraries "
   ]
  },
  {
   "cell_type": "code",
   "execution_count": 21,
   "id": "80b2d369-57c5-4971-aae8-e25ff268aef6",
   "metadata": {},
   "outputs": [],
   "source": [
    "import statsmodels.api as sm \n",
    "import pandas as pd  \n",
    "import numpy as np\n",
    "import seaborn as sns\n",
    "import matplotlib.pyplot as plt\n",
    "from statsmodels.stats.outliers_influence import variance_inflation_factor \n",
    "\n",
    "from sklearn.model_selection import train_test_split \n",
    "#from sklearn.linear_model import LogisticRegression\n",
    "from sklearn.metrics import confusion_matrix, classification_report, accuracy_score,roc_curve,roc_auc_score"
   ]
  },
  {
   "cell_type": "markdown",
   "id": "1ad87057",
   "metadata": {},
   "source": [
    "## 2.Data load and EDA"
   ]
  },
  {
   "cell_type": "code",
   "execution_count": 22,
   "id": "438ff522-7f37-4078-88aa-04edd41644dc",
   "metadata": {},
   "outputs": [
    {
     "name": "stderr",
     "output_type": "stream",
     "text": [
      "C:\\Users\\jonly\\anaconda3\\lib\\site-packages\\openpyxl\\worksheet\\_read_only.py:79: UserWarning: Web Extension extension is not supported and will be removed\n",
      "  for idx, row in parser.parse():\n"
     ]
    }
   ],
   "source": [
    "# loading the  dataset  \n",
    "df = pd.read_excel(r\"dataset.xlsx\")\n",
    "\n",
    "df['rx_id'] = df['rx_id'].astype(str)\n",
    "df['patient_id'] = df['patient_id'].astype(str)"
   ]
  },
  {
   "cell_type": "code",
   "execution_count": 23,
   "id": "69aaef5d-9a22-4f8b-bab1-b4b0f6a27d2e",
   "metadata": {
    "scrolled": true
   },
   "outputs": [
    {
     "data": {
      "text/html": [
       "<div>\n",
       "<style scoped>\n",
       "    .dataframe tbody tr th:only-of-type {\n",
       "        vertical-align: middle;\n",
       "    }\n",
       "\n",
       "    .dataframe tbody tr th {\n",
       "        vertical-align: top;\n",
       "    }\n",
       "\n",
       "    .dataframe thead th {\n",
       "        text-align: right;\n",
       "    }\n",
       "</style>\n",
       "<table border=\"1\" class=\"dataframe\">\n",
       "  <thead>\n",
       "    <tr style=\"text-align: right;\">\n",
       "      <th></th>\n",
       "      <th>rx_id</th>\n",
       "      <th>patient_id</th>\n",
       "      <th>brand_name</th>\n",
       "      <th>gender</th>\n",
       "      <th>annual_salary</th>\n",
       "      <th>is_healthcare_major</th>\n",
       "      <th>is_filled</th>\n",
       "    </tr>\n",
       "  </thead>\n",
       "  <tbody>\n",
       "    <tr>\n",
       "      <th>0</th>\n",
       "      <td>1</td>\n",
       "      <td>1</td>\n",
       "      <td>entresto</td>\n",
       "      <td>m</td>\n",
       "      <td>30000</td>\n",
       "      <td>1</td>\n",
       "      <td>1</td>\n",
       "    </tr>\n",
       "    <tr>\n",
       "      <th>1</th>\n",
       "      <td>2</td>\n",
       "      <td>2</td>\n",
       "      <td>entresto</td>\n",
       "      <td>f</td>\n",
       "      <td>40000</td>\n",
       "      <td>1</td>\n",
       "      <td>1</td>\n",
       "    </tr>\n",
       "    <tr>\n",
       "      <th>2</th>\n",
       "      <td>3</td>\n",
       "      <td>3</td>\n",
       "      <td>entresto</td>\n",
       "      <td>m</td>\n",
       "      <td>35000</td>\n",
       "      <td>1</td>\n",
       "      <td>1</td>\n",
       "    </tr>\n",
       "    <tr>\n",
       "      <th>3</th>\n",
       "      <td>4</td>\n",
       "      <td>4</td>\n",
       "      <td>entresto</td>\n",
       "      <td>f</td>\n",
       "      <td>34000</td>\n",
       "      <td>1</td>\n",
       "      <td>1</td>\n",
       "    </tr>\n",
       "    <tr>\n",
       "      <th>4</th>\n",
       "      <td>5</td>\n",
       "      <td>5</td>\n",
       "      <td>entresto</td>\n",
       "      <td>m</td>\n",
       "      <td>50000</td>\n",
       "      <td>1</td>\n",
       "      <td>1</td>\n",
       "    </tr>\n",
       "  </tbody>\n",
       "</table>\n",
       "</div>"
      ],
      "text/plain": [
       "  rx_id patient_id brand_name gender  annual_salary  is_healthcare_major  \\\n",
       "0     1          1   entresto      m          30000                    1   \n",
       "1     2          2   entresto      f          40000                    1   \n",
       "2     3          3   entresto      m          35000                    1   \n",
       "3     4          4   entresto      f          34000                    1   \n",
       "4     5          5   entresto      m          50000                    1   \n",
       "\n",
       "   is_filled  \n",
       "0          1  \n",
       "1          1  \n",
       "2          1  \n",
       "3          1  \n",
       "4          1  "
      ]
     },
     "execution_count": 23,
     "metadata": {},
     "output_type": "execute_result"
    }
   ],
   "source": [
    "df.head()"
   ]
  },
  {
   "cell_type": "code",
   "execution_count": 24,
   "id": "0d44cb40-6cf5-4119-9f89-5178795f998f",
   "metadata": {},
   "outputs": [
    {
     "name": "stdout",
     "output_type": "stream",
     "text": [
      "<class 'pandas.core.frame.DataFrame'>\n",
      "RangeIndex: 202 entries, 0 to 201\n",
      "Data columns (total 7 columns):\n",
      " #   Column               Non-Null Count  Dtype \n",
      "---  ------               --------------  ----- \n",
      " 0   rx_id                202 non-null    object\n",
      " 1   patient_id           202 non-null    object\n",
      " 2   brand_name           202 non-null    object\n",
      " 3   gender               202 non-null    object\n",
      " 4   annual_salary        202 non-null    int64 \n",
      " 5   is_healthcare_major  202 non-null    int64 \n",
      " 6   is_filled            202 non-null    int64 \n",
      "dtypes: int64(3), object(4)\n",
      "memory usage: 11.2+ KB\n"
     ]
    }
   ],
   "source": [
    "df.info()"
   ]
  },
  {
   "cell_type": "code",
   "execution_count": 25,
   "id": "b6fbeb92-7616-48e8-931d-bb929c64e923",
   "metadata": {
    "scrolled": true
   },
   "outputs": [
    {
     "data": {
      "text/html": [
       "<div>\n",
       "<style scoped>\n",
       "    .dataframe tbody tr th:only-of-type {\n",
       "        vertical-align: middle;\n",
       "    }\n",
       "\n",
       "    .dataframe tbody tr th {\n",
       "        vertical-align: top;\n",
       "    }\n",
       "\n",
       "    .dataframe thead th {\n",
       "        text-align: right;\n",
       "    }\n",
       "</style>\n",
       "<table border=\"1\" class=\"dataframe\">\n",
       "  <thead>\n",
       "    <tr style=\"text-align: right;\">\n",
       "      <th></th>\n",
       "      <th>annual_salary</th>\n",
       "      <th>is_healthcare_major</th>\n",
       "      <th>is_filled</th>\n",
       "    </tr>\n",
       "  </thead>\n",
       "  <tbody>\n",
       "    <tr>\n",
       "      <th>count</th>\n",
       "      <td>202.000000</td>\n",
       "      <td>202.000000</td>\n",
       "      <td>202.000000</td>\n",
       "    </tr>\n",
       "    <tr>\n",
       "      <th>mean</th>\n",
       "      <td>39166.198020</td>\n",
       "      <td>0.460396</td>\n",
       "      <td>0.500000</td>\n",
       "    </tr>\n",
       "    <tr>\n",
       "      <th>std</th>\n",
       "      <td>32267.926449</td>\n",
       "      <td>0.499667</td>\n",
       "      <td>0.501242</td>\n",
       "    </tr>\n",
       "    <tr>\n",
       "      <th>min</th>\n",
       "      <td>3000.000000</td>\n",
       "      <td>0.000000</td>\n",
       "      <td>0.000000</td>\n",
       "    </tr>\n",
       "    <tr>\n",
       "      <th>25%</th>\n",
       "      <td>11500.000000</td>\n",
       "      <td>0.000000</td>\n",
       "      <td>0.000000</td>\n",
       "    </tr>\n",
       "    <tr>\n",
       "      <th>50%</th>\n",
       "      <td>34000.000000</td>\n",
       "      <td>0.000000</td>\n",
       "      <td>0.500000</td>\n",
       "    </tr>\n",
       "    <tr>\n",
       "      <th>75%</th>\n",
       "      <td>50000.000000</td>\n",
       "      <td>1.000000</td>\n",
       "      <td>1.000000</td>\n",
       "    </tr>\n",
       "    <tr>\n",
       "      <th>max</th>\n",
       "      <td>140000.000000</td>\n",
       "      <td>1.000000</td>\n",
       "      <td>1.000000</td>\n",
       "    </tr>\n",
       "  </tbody>\n",
       "</table>\n",
       "</div>"
      ],
      "text/plain": [
       "       annual_salary  is_healthcare_major   is_filled\n",
       "count     202.000000           202.000000  202.000000\n",
       "mean    39166.198020             0.460396    0.500000\n",
       "std     32267.926449             0.499667    0.501242\n",
       "min      3000.000000             0.000000    0.000000\n",
       "25%     11500.000000             0.000000    0.000000\n",
       "50%     34000.000000             0.000000    0.500000\n",
       "75%     50000.000000             1.000000    1.000000\n",
       "max    140000.000000             1.000000    1.000000"
      ]
     },
     "execution_count": 25,
     "metadata": {},
     "output_type": "execute_result"
    }
   ],
   "source": [
    "df.describe()"
   ]
  },
  {
   "cell_type": "code",
   "execution_count": 26,
   "id": "8b207c02-b07d-406b-98b2-8e87078cd582",
   "metadata": {},
   "outputs": [
    {
     "data": {
      "text/plain": [
       "entresto    202\n",
       "Name: brand_name, dtype: int64"
      ]
     },
     "execution_count": 26,
     "metadata": {},
     "output_type": "execute_result"
    }
   ],
   "source": [
    "df['brand_name'].value_counts()"
   ]
  },
  {
   "cell_type": "code",
   "execution_count": 27,
   "id": "c8d9fe15-1623-4cb0-88b4-17ea2fb3cc4e",
   "metadata": {
    "scrolled": false
   },
   "outputs": [
    {
     "data": {
      "image/png": "[encoded data removed]",
      "text/plain": [
       "<Figure size 640x480 with 4 Axes>"
      ]
     },
     "metadata": {},
     "output_type": "display_data"
    }
   ],
   "source": [
    "# See distributions of  general salary and different subgroups' salary\n",
    "fig, axes = plt.subplots(2, 2)\n",
    "sns.histplot(data=df, x='annual_salary', kde=True, ax=axes[0, 0])\n",
    "sns.histplot(data=df, x='annual_salary', kde=True, hue='gender', ax=axes[0, 1])\n",
    "sns.histplot(data=df, x='annual_salary', kde=True, hue='is_healthcare_major', ax=axes[1, 0])\n",
    "sns.histplot(data=df, x='annual_salary', kde=True, hue='is_filled', ax=axes[1, 1])\n",
    "plt.subplots_adjust(hspace=0.5, wspace=0.3)\n",
    "plt.show()"
   ]
  },
  {
   "cell_type": "markdown",
   "id": "3e03f956",
   "metadata": {},
   "source": [
    "- Insight: We can see that the overall salary distribution is skewed to the right.\n",
    "- Insight: We see that gender and healthcare major have lots of overlap so they don't seem to influence salary.\n",
    "- Insight: However,there seems to be a difference in salary versus filling a medication. Higher salary seems to fill their medication versus lower salary."
   ]
  },
  {
   "cell_type": "code",
   "execution_count": 28,
   "id": "44d318e0-a39d-4c83-a30d-c29eebebb376",
   "metadata": {},
   "outputs": [
    {
     "data": {
      "image/png": "[encoded data removed]",
      "text/plain": [
       "<Figure size 1200x600 with 2 Axes>"
      ]
     },
     "metadata": {},
     "output_type": "display_data"
    }
   ],
   "source": [
    "# Visually see if there is a proportional difference in filling a medication by gender and if healthcare major\n",
    "fig, axes = plt.subplots(1, 2 , figsize=(12, 6))\n",
    "sns.countplot(data = df,x=df['gender'],hue=df['is_filled'],  ax=axes[0])\n",
    "sns.countplot(data = df,x=df['is_healthcare_major'],hue=df['is_filled'],ax=axes[1])\n",
    "plt.subplots_adjust(hspace=0.5, wspace=0.3)\n",
    "plt.show()"
   ]
  },
  {
   "cell_type": "markdown",
   "id": "07aad3dd",
   "metadata": {},
   "source": [
    "- insight: Gender doesn't seem to play a role as the proportions of filling or not are pretty even between the genders\n",
    "- insight: Seems like those that were healthcare major in college would influence a person's decision to pick up the medication. Visually, we can see those that were healthcare majors in college had much high proportions of filling. Those that weren't in healthcare majors in college had much higher proportions of not filling the medication. "
   ]
  },
  {
   "cell_type": "markdown",
   "id": "292f22bf",
   "metadata": {},
   "source": [
    "## 3. Preparing ML models"
   ]
  },
  {
   "cell_type": "code",
   "execution_count": 29,
   "id": "1ee808f4",
   "metadata": {},
   "outputs": [
    {
     "data": {
      "text/html": [
       "<div>\n",
       "<style scoped>\n",
       "    .dataframe tbody tr th:only-of-type {\n",
       "        vertical-align: middle;\n",
       "    }\n",
       "\n",
       "    .dataframe tbody tr th {\n",
       "        vertical-align: top;\n",
       "    }\n",
       "\n",
       "    .dataframe thead th {\n",
       "        text-align: right;\n",
       "    }\n",
       "</style>\n",
       "<table border=\"1\" class=\"dataframe\">\n",
       "  <thead>\n",
       "    <tr style=\"text-align: right;\">\n",
       "      <th></th>\n",
       "      <th>gender_m</th>\n",
       "    </tr>\n",
       "  </thead>\n",
       "  <tbody>\n",
       "    <tr>\n",
       "      <th>0</th>\n",
       "      <td>1</td>\n",
       "    </tr>\n",
       "    <tr>\n",
       "      <th>1</th>\n",
       "      <td>0</td>\n",
       "    </tr>\n",
       "    <tr>\n",
       "      <th>2</th>\n",
       "      <td>1</td>\n",
       "    </tr>\n",
       "    <tr>\n",
       "      <th>3</th>\n",
       "      <td>0</td>\n",
       "    </tr>\n",
       "    <tr>\n",
       "      <th>4</th>\n",
       "      <td>1</td>\n",
       "    </tr>\n",
       "    <tr>\n",
       "      <th>...</th>\n",
       "      <td>...</td>\n",
       "    </tr>\n",
       "    <tr>\n",
       "      <th>197</th>\n",
       "      <td>1</td>\n",
       "    </tr>\n",
       "    <tr>\n",
       "      <th>198</th>\n",
       "      <td>0</td>\n",
       "    </tr>\n",
       "    <tr>\n",
       "      <th>199</th>\n",
       "      <td>1</td>\n",
       "    </tr>\n",
       "    <tr>\n",
       "      <th>200</th>\n",
       "      <td>0</td>\n",
       "    </tr>\n",
       "    <tr>\n",
       "      <th>201</th>\n",
       "      <td>1</td>\n",
       "    </tr>\n",
       "  </tbody>\n",
       "</table>\n",
       "<p>202 rows × 1 columns</p>\n",
       "</div>"
      ],
      "text/plain": [
       "     gender_m\n",
       "0           1\n",
       "1           0\n",
       "2           1\n",
       "3           0\n",
       "4           1\n",
       "..        ...\n",
       "197         1\n",
       "198         0\n",
       "199         1\n",
       "200         0\n",
       "201         1\n",
       "\n",
       "[202 rows x 1 columns]"
      ]
     },
     "execution_count": 29,
     "metadata": {},
     "output_type": "execute_result"
    }
   ],
   "source": [
    "# Computers aren't good with strings so we will encode the categorical variable\n",
    "# Then we will drop one of the column to avoid multicollinearity\n",
    "# 1 means it is male and 0 means it is female \n",
    "gender = pd.get_dummies(df['gender'], drop_first=True).rename(columns={'m':'gender_m'})\n",
    "gender"
   ]
  },
  {
   "cell_type": "code",
   "execution_count": 30,
   "id": "334cb413",
   "metadata": {
    "scrolled": true
   },
   "outputs": [
    {
     "data": {
      "text/html": [
       "<div>\n",
       "<style scoped>\n",
       "    .dataframe tbody tr th:only-of-type {\n",
       "        vertical-align: middle;\n",
       "    }\n",
       "\n",
       "    .dataframe tbody tr th {\n",
       "        vertical-align: top;\n",
       "    }\n",
       "\n",
       "    .dataframe thead th {\n",
       "        text-align: right;\n",
       "    }\n",
       "</style>\n",
       "<table border=\"1\" class=\"dataframe\">\n",
       "  <thead>\n",
       "    <tr style=\"text-align: right;\">\n",
       "      <th></th>\n",
       "      <th>rx_id</th>\n",
       "      <th>patient_id</th>\n",
       "      <th>brand_name</th>\n",
       "      <th>annual_salary</th>\n",
       "      <th>is_healthcare_major</th>\n",
       "      <th>is_filled</th>\n",
       "      <th>gender_m</th>\n",
       "    </tr>\n",
       "  </thead>\n",
       "  <tbody>\n",
       "    <tr>\n",
       "      <th>0</th>\n",
       "      <td>1</td>\n",
       "      <td>1</td>\n",
       "      <td>entresto</td>\n",
       "      <td>30000</td>\n",
       "      <td>1</td>\n",
       "      <td>1</td>\n",
       "      <td>1</td>\n",
       "    </tr>\n",
       "    <tr>\n",
       "      <th>1</th>\n",
       "      <td>2</td>\n",
       "      <td>2</td>\n",
       "      <td>entresto</td>\n",
       "      <td>40000</td>\n",
       "      <td>1</td>\n",
       "      <td>1</td>\n",
       "      <td>0</td>\n",
       "    </tr>\n",
       "    <tr>\n",
       "      <th>2</th>\n",
       "      <td>3</td>\n",
       "      <td>3</td>\n",
       "      <td>entresto</td>\n",
       "      <td>35000</td>\n",
       "      <td>1</td>\n",
       "      <td>1</td>\n",
       "      <td>1</td>\n",
       "    </tr>\n",
       "    <tr>\n",
       "      <th>3</th>\n",
       "      <td>4</td>\n",
       "      <td>4</td>\n",
       "      <td>entresto</td>\n",
       "      <td>34000</td>\n",
       "      <td>1</td>\n",
       "      <td>1</td>\n",
       "      <td>0</td>\n",
       "    </tr>\n",
       "    <tr>\n",
       "      <th>4</th>\n",
       "      <td>5</td>\n",
       "      <td>5</td>\n",
       "      <td>entresto</td>\n",
       "      <td>50000</td>\n",
       "      <td>1</td>\n",
       "      <td>1</td>\n",
       "      <td>1</td>\n",
       "    </tr>\n",
       "  </tbody>\n",
       "</table>\n",
       "</div>"
      ],
      "text/plain": [
       "  rx_id patient_id brand_name  annual_salary  is_healthcare_major  is_filled  \\\n",
       "0     1          1   entresto          30000                    1          1   \n",
       "1     2          2   entresto          40000                    1          1   \n",
       "2     3          3   entresto          35000                    1          1   \n",
       "3     4          4   entresto          34000                    1          1   \n",
       "4     5          5   entresto          50000                    1          1   \n",
       "\n",
       "   gender_m  \n",
       "0         1  \n",
       "1         0  \n",
       "2         1  \n",
       "3         0  \n",
       "4         1  "
      ]
     },
     "execution_count": 30,
     "metadata": {},
     "output_type": "execute_result"
    }
   ],
   "source": [
    "# Drop the original gender column since we don't need it anymore\n",
    "df.drop('gender',axis=1,inplace=True)\n",
    "df = pd.concat([df,gender], axis=1)\n",
    "df.head()"
   ]
  },
  {
   "cell_type": "code",
   "execution_count": 31,
   "id": "3571d2a2",
   "metadata": {},
   "outputs": [],
   "source": [
    "#  creating different dataframes to hold the features and hold the target variable\n",
    "X =df[['gender_m','annual_salary','is_healthcare_major']]\n",
    "y= df[['is_filled']]"
   ]
  },
  {
   "cell_type": "code",
   "execution_count": 32,
   "id": "3ab1f7c7",
   "metadata": {},
   "outputs": [
    {
     "name": "stdout",
     "output_type": "stream",
     "text": [
      "              features       VIF\n",
      "0             gender_m  1.563875\n",
      "1        annual_salary  1.574921\n",
      "2  is_healthcare_major  1.437768\n"
     ]
    }
   ],
   "source": [
    "# Test for multicollinearity\n",
    "\n",
    "# VIF dataframe \n",
    "vif_data = pd.DataFrame() \n",
    "vif_data[\"features\"] = X.columns \n",
    "  \n",
    "# calculating VIF for each feature \n",
    "vif_data[\"VIF\"] = [variance_inflation_factor(X.values, i) \n",
    "                          for i in range(len(X.columns))] \n",
    "  \n",
    "print(vif_data)"
   ]
  },
  {
   "cell_type": "markdown",
   "id": "72310e23",
   "metadata": {},
   "source": [
    "- insight: All features have VIF values less than 5 so probably no multicollinearity "
   ]
  },
  {
   "cell_type": "code",
   "execution_count": 33,
   "id": "81b5edd0-ac07-4303-b6cf-5b7b4e87a0aa",
   "metadata": {},
   "outputs": [],
   "source": [
    "# SPLIT DATA TO TRAIN AND TEST SET\n",
    "X_train, X_test, y_train, y_test = train_test_split(X, y, test_size=0.30, random_state=1)"
   ]
  },
  {
   "cell_type": "code",
   "execution_count": 34,
   "id": "49316a84",
   "metadata": {},
   "outputs": [
    {
     "data": {
      "text/html": [
       "<div>\n",
       "<style scoped>\n",
       "    .dataframe tbody tr th:only-of-type {\n",
       "        vertical-align: middle;\n",
       "    }\n",
       "\n",
       "    .dataframe tbody tr th {\n",
       "        vertical-align: top;\n",
       "    }\n",
       "\n",
       "    .dataframe thead th {\n",
       "        text-align: right;\n",
       "    }\n",
       "</style>\n",
       "<table border=\"1\" class=\"dataframe\">\n",
       "  <thead>\n",
       "    <tr style=\"text-align: right;\">\n",
       "      <th></th>\n",
       "      <th>gender_m</th>\n",
       "      <th>annual_salary</th>\n",
       "      <th>is_healthcare_major</th>\n",
       "    </tr>\n",
       "  </thead>\n",
       "  <tbody>\n",
       "    <tr>\n",
       "      <th>200</th>\n",
       "      <td>0</td>\n",
       "      <td>8000</td>\n",
       "      <td>1</td>\n",
       "    </tr>\n",
       "    <tr>\n",
       "      <th>143</th>\n",
       "      <td>1</td>\n",
       "      <td>140000</td>\n",
       "      <td>0</td>\n",
       "    </tr>\n",
       "    <tr>\n",
       "      <th>69</th>\n",
       "      <td>0</td>\n",
       "      <td>11000</td>\n",
       "      <td>0</td>\n",
       "    </tr>\n",
       "    <tr>\n",
       "      <th>150</th>\n",
       "      <td>0</td>\n",
       "      <td>10000</td>\n",
       "      <td>0</td>\n",
       "    </tr>\n",
       "    <tr>\n",
       "      <th>42</th>\n",
       "      <td>1</td>\n",
       "      <td>120000</td>\n",
       "      <td>0</td>\n",
       "    </tr>\n",
       "    <tr>\n",
       "      <th>...</th>\n",
       "      <td>...</td>\n",
       "      <td>...</td>\n",
       "      <td>...</td>\n",
       "    </tr>\n",
       "    <tr>\n",
       "      <th>133</th>\n",
       "      <td>1</td>\n",
       "      <td>43000</td>\n",
       "      <td>1</td>\n",
       "    </tr>\n",
       "    <tr>\n",
       "      <th>137</th>\n",
       "      <td>1</td>\n",
       "      <td>97000</td>\n",
       "      <td>0</td>\n",
       "    </tr>\n",
       "    <tr>\n",
       "      <th>72</th>\n",
       "      <td>1</td>\n",
       "      <td>15000</td>\n",
       "      <td>0</td>\n",
       "    </tr>\n",
       "    <tr>\n",
       "      <th>140</th>\n",
       "      <td>0</td>\n",
       "      <td>140000</td>\n",
       "      <td>0</td>\n",
       "    </tr>\n",
       "    <tr>\n",
       "      <th>37</th>\n",
       "      <td>0</td>\n",
       "      <td>97000</td>\n",
       "      <td>0</td>\n",
       "    </tr>\n",
       "  </tbody>\n",
       "</table>\n",
       "<p>141 rows × 3 columns</p>\n",
       "</div>"
      ],
      "text/plain": [
       "     gender_m  annual_salary  is_healthcare_major\n",
       "200         0           8000                    1\n",
       "143         1         140000                    0\n",
       "69          0          11000                    0\n",
       "150         0          10000                    0\n",
       "42          1         120000                    0\n",
       "..        ...            ...                  ...\n",
       "133         1          43000                    1\n",
       "137         1          97000                    0\n",
       "72          1          15000                    0\n",
       "140         0         140000                    0\n",
       "37          0          97000                    0\n",
       "\n",
       "[141 rows x 3 columns]"
      ]
     },
     "execution_count": 34,
     "metadata": {},
     "output_type": "execute_result"
    }
   ],
   "source": [
    "X_train"
   ]
  },
  {
   "cell_type": "code",
   "execution_count": 35,
   "id": "62fd4ca7",
   "metadata": {
    "scrolled": true
   },
   "outputs": [
    {
     "data": {
      "text/html": [
       "<div>\n",
       "<style scoped>\n",
       "    .dataframe tbody tr th:only-of-type {\n",
       "        vertical-align: middle;\n",
       "    }\n",
       "\n",
       "    .dataframe tbody tr th {\n",
       "        vertical-align: top;\n",
       "    }\n",
       "\n",
       "    .dataframe thead th {\n",
       "        text-align: right;\n",
       "    }\n",
       "</style>\n",
       "<table border=\"1\" class=\"dataframe\">\n",
       "  <thead>\n",
       "    <tr style=\"text-align: right;\">\n",
       "      <th></th>\n",
       "      <th>is_filled</th>\n",
       "    </tr>\n",
       "  </thead>\n",
       "  <tbody>\n",
       "    <tr>\n",
       "      <th>200</th>\n",
       "      <td>0</td>\n",
       "    </tr>\n",
       "    <tr>\n",
       "      <th>143</th>\n",
       "      <td>1</td>\n",
       "    </tr>\n",
       "    <tr>\n",
       "      <th>69</th>\n",
       "      <td>0</td>\n",
       "    </tr>\n",
       "    <tr>\n",
       "      <th>150</th>\n",
       "      <td>0</td>\n",
       "    </tr>\n",
       "    <tr>\n",
       "      <th>42</th>\n",
       "      <td>1</td>\n",
       "    </tr>\n",
       "    <tr>\n",
       "      <th>...</th>\n",
       "      <td>...</td>\n",
       "    </tr>\n",
       "    <tr>\n",
       "      <th>133</th>\n",
       "      <td>1</td>\n",
       "    </tr>\n",
       "    <tr>\n",
       "      <th>137</th>\n",
       "      <td>1</td>\n",
       "    </tr>\n",
       "    <tr>\n",
       "      <th>72</th>\n",
       "      <td>0</td>\n",
       "    </tr>\n",
       "    <tr>\n",
       "      <th>140</th>\n",
       "      <td>1</td>\n",
       "    </tr>\n",
       "    <tr>\n",
       "      <th>37</th>\n",
       "      <td>1</td>\n",
       "    </tr>\n",
       "  </tbody>\n",
       "</table>\n",
       "<p>141 rows × 1 columns</p>\n",
       "</div>"
      ],
      "text/plain": [
       "     is_filled\n",
       "200          0\n",
       "143          1\n",
       "69           0\n",
       "150          0\n",
       "42           1\n",
       "..         ...\n",
       "133          1\n",
       "137          1\n",
       "72           0\n",
       "140          1\n",
       "37           1\n",
       "\n",
       "[141 rows x 1 columns]"
      ]
     },
     "execution_count": 35,
     "metadata": {},
     "output_type": "execute_result"
    }
   ],
   "source": [
    "y_train"
   ]
  },
  {
   "cell_type": "markdown",
   "id": "b99caa82",
   "metadata": {},
   "source": [
    "## 4. Model in action and interpretation"
   ]
  },
  {
   "cell_type": "code",
   "execution_count": 36,
   "id": "fc5b8753",
   "metadata": {},
   "outputs": [
    {
     "name": "stdout",
     "output_type": "stream",
     "text": [
      "Optimization terminated successfully.\n",
      "         Current function value: 0.112241\n",
      "         Iterations 11\n"
     ]
    }
   ],
   "source": [
    "#Need to add the intercept constant. Statsmodel turns it off on default.\n",
    "X_train = sm.add_constant(X_train)\n",
    "\n",
    "# building the model and fitting the data \n",
    "log_reg = sm.Logit(y_train, X_train).fit() \n",
    "\n"
   ]
  },
  {
   "cell_type": "code",
   "execution_count": 37,
   "id": "1d2e5e97",
   "metadata": {},
   "outputs": [
    {
     "name": "stdout",
     "output_type": "stream",
     "text": [
      "                           Logit Regression Results                           \n",
      "==============================================================================\n",
      "Dep. Variable:              is_filled   No. Observations:                  141\n",
      "Model:                          Logit   Df Residuals:                      137\n",
      "Method:                           MLE   Df Model:                            3\n",
      "Date:                Tue, 12 Mar 2024   Pseudo R-squ.:                  0.8381\n",
      "Time:                        21:09:50   Log-Likelihood:                -15.826\n",
      "converged:                       True   LL-Null:                       -97.730\n",
      "Covariance Type:            nonrobust   LLR p-value:                 2.762e-35\n",
      "=======================================================================================\n",
      "                          coef    std err          z      P>|z|      [0.025      0.975]\n",
      "---------------------------------------------------------------------------------------\n",
      "const                 -11.9699      3.219     -3.718      0.000     -18.280      -5.660\n",
      "gender_m                0.4844      0.975      0.497      0.619      -1.427       2.396\n",
      "annual_salary           0.0003    8.6e-05      3.433      0.001       0.000       0.000\n",
      "is_healthcare_major     6.7805      2.228      3.043      0.002       2.413      11.148\n",
      "=======================================================================================\n",
      "\n",
      "Possibly complete quasi-separation: A fraction 0.26 of observations can be\n",
      "perfectly predicted. This might indicate that there is complete\n",
      "quasi-separation. In this case some parameters will not be identified.\n"
     ]
    }
   ],
   "source": [
    "# printing the summary table \n",
    "print(log_reg.summary()) "
   ]
  },
  {
   "cell_type": "markdown",
   "id": "eb9a84ad",
   "metadata": {},
   "source": [
    "- insight: As expected , gender wasn't statisically significant. The visual showed the proportions of filling were similiar between the two genders.\n",
    "- insight: The log odds of annual_salary  is 0.0003 . Convert this to odds with e^(0.0003) = 1.0003 . It is greater than 1 so annual_salary has a positive effect in filling a med.\n",
    "- insight: The log odds of is_healthcare_major is 6.8 . Convert this to odds with e^(6.8) = 898. It is greater than 1 so being a healthcare major has a positive effect in filling a med."
   ]
  },
  {
   "cell_type": "markdown",
   "id": "0e5a7f68",
   "metadata": {},
   "source": [
    "## 5. Models evaluation"
   ]
  },
  {
   "cell_type": "code",
   "execution_count": 38,
   "id": "30462149",
   "metadata": {},
   "outputs": [
    {
     "data": {
      "text/plain": [
       "196    0.096500\n",
       "95     0.055868\n",
       "173    0.000264\n",
       "123    0.999957\n",
       "38     1.000000\n",
       "dtype: float64"
      ]
     },
     "execution_count": 38,
     "metadata": {},
     "output_type": "execute_result"
    }
   ],
   "source": [
    "#since we added a constant for the training set, we need to add it for the testing set\n",
    "X_test = sm.add_constant(X_test)\n",
    "\n",
    "# performing predictions on the test dataset \n",
    "y_predicted_prob = log_reg.predict(X_test)\n",
    "y_predicted_prob.head(5)"
   ]
  },
  {
   "cell_type": "code",
   "execution_count": 39,
   "id": "823019b7",
   "metadata": {},
   "outputs": [
    {
     "name": "stdout",
     "output_type": "stream",
     "text": [
      "Actual values : ['0, 0, 0, 1, 1, 0, 0, 0, 1, 1, 1, 0, 1, 0, 1, 1, 1, 1, 0, 0, 1, 1, 1, 1, 0, 1, 1, 0, 0, 1, 1, 1, 1, 1, 0, 0, 0, 0, 0, 0, 1, 1, 0, 0, 0, 1, 0, 1, 1, 1, 0, 0, 0, 0, 0, 0, 1, 0, 0, 1, 1']\n",
      "Predictions : [0, 0, 0, 1, 1, 0, 0, 0, 1, 1, 0, 0, 1, 0, 1, 1, 1, 1, 0, 0, 1, 1, 1, 1, 0, 1, 1, 0, 0, 1, 1, 1, 1, 0, 0, 0, 0, 0, 0, 0, 1, 1, 0, 0, 0, 1, 0, 1, 1, 1, 0, 0, 0, 0, 0, 0, 1, 0, 0, 1, 0]\n"
     ]
    }
   ],
   "source": [
    "# Assume probabilities 50% or greater will fill the medication\n",
    "y_predicted = list(map(round, y_predicted_prob))\n",
    "\n",
    "actual = y_test.values.flatten()\n",
    "actual = [', '.join(map(str, actual))]\n",
    "\n",
    "    \n",
    "# comparing original and predicted values of y \n",
    "print('Actual values :', actual) \n",
    "print('Predictions :', y_predicted) "
   ]
  },
  {
   "cell_type": "code",
   "execution_count": 40,
   "id": "cc36b32f",
   "metadata": {
    "scrolled": true
   },
   "outputs": [
    {
     "name": "stdout",
     "output_type": "stream",
     "text": [
      "Confusion Matrix : \n",
      " [[31  0]\n",
      " [ 3 27]]\n",
      "Test accuracy =  0.9508196721311475\n"
     ]
    }
   ],
   "source": [
    "# confusion matrix \n",
    "cm = confusion_matrix(y_test, y_predicted)  \n",
    "print (\"Confusion Matrix : \\n\", cm)  \n",
    "  \n",
    "# accuracy score of the model \n",
    "print('Test accuracy = ', accuracy_score(y_test, y_predicted))"
   ]
  },
  {
   "cell_type": "markdown",
   "id": "9fea1f63",
   "metadata": {},
   "source": [
    "##  6. Conclusion"
   ]
  },
  {
   "cell_type": "markdown",
   "id": "1e48dda2",
   "metadata": {},
   "source": [
    "- Our model was about 95% accurate in predicting if an user will pick up his/her entresto. This is probably unrealistic since the data set was fake and reality is complicated.However, ways of improving the model are to get more samples, more features, cross validation , hyper parameter tuning ,etc.\n",
    "\n",
    "- The logistic regression showed that healthcare major has an impact on whether a patient filled Entresto or not. Perhaps, an intervention would be to sent an educational link to the patients that weren't in healthcare major. The link would provide more medical info about the medication and about the potential dangers of uncontroll heart failure.\n",
    "\n",
    "- Money seems to be a factor of whether a patient decides to pick up Enstreto or not. An intervention would be to contact the manufacturer for special coupons so that the patients can afford the medication."
   ]
  }
 ],
 "metadata": {
  "kernelspec": {
   "display_name": "Python 3 (ipykernel)",
   "language": "python",
   "name": "python3"
  },
  "language_info": {
   "codemirror_mode": {
    "name": "ipython",
    "version": 3
   },
   "file_extension": ".py",
   "mimetype": "text/x-python",
   "name": "python",
   "nbconvert_exporter": "python",
   "pygments_lexer": "ipython3",
   "version": "3.9.18"
  }
 },
 "nbformat": 4,
 "nbformat_minor": 5
}
